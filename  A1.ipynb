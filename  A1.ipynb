{
 "cells": [
  {
   "cell_type": "markdown",
   "metadata": {
    "id": "rbgjVp6BXGCT"
   },
   "source": [
    "\n",
    "# **Assignment 1**\n",
    "\n",
    "\n",
    "## Task 1. Correlation\n",
    "We will use the data example from the textbook \"Statistical Analysis with The General Linear Model\" by Miller and Haden (2013), Chapter 11.\n",
    "\n",
    "As in Miller and Haden, we have five columns:\n",
    "\n",
    "-Participant (Participant),\n",
    "\n",
    "-Reading Ability (Abil),\n",
    "\n",
    "-Intelligence (IQ),\n",
    "\n",
    "-Number of minutes spent reading at home per week (Home),\n",
    "\n",
    "-Number of minutes spent watching TV per week (TV).\n",
    "\n",
    "\n",
    "For the task we will focus on the relationship between Reading Ability and IQ, but for further practice you can look at other relationships on your own."
   ]
  },
  {
   "cell_type": "markdown",
   "metadata": {
    "id": "Z4cXzKORYFaD"
   },
   "source": [
    "**Question 1**:\n",
    "\n",
    "a. Check whether the data is interval, ratio, or ordinal.\n",
    "\n",
    "b. Check whether there is a data point for each participant on both variables.\n",
    "\n",
    "c. Check whether the data is normally distributed in both variables.\n",
    "\n",
    "d. Create a scatter plot with Reading Ability being the x-axis and IQ, being the y-axis.\n",
    "\n",
    "e. Draw a correlation line on the scatter plot.\n",
    "\n",
    "\n",
    "**Instructions:**\n",
    "\n",
    "1. Load the necessary libraries and explain why you need them (\"#used for ...\").\n",
    "\n",
    "2. Read the MillerHadenData.csv file into a DataFrame and name it \"df_mh\"."
   ]
  },
  {
   "cell_type": "code",
   "execution_count": 5,
   "metadata": {
    "id": "140M8Z4qYn_G"
   },
   "outputs": [
    {
     "name": "stdout",
     "output_type": "stream",
     "text": [
      "Requirement already satisfied: pingouin in /Users/margotwu/anaconda3/lib/python3.11/site-packages (0.5.4)\n",
      "Requirement already satisfied: numpy in /Users/margotwu/anaconda3/lib/python3.11/site-packages (from pingouin) (1.24.3)\n",
      "Requirement already satisfied: scipy in /Users/margotwu/anaconda3/lib/python3.11/site-packages (from pingouin) (1.10.1)\n",
      "Requirement already satisfied: pandas>=1.5 in /Users/margotwu/anaconda3/lib/python3.11/site-packages (from pingouin) (1.5.3)\n",
      "Requirement already satisfied: matplotlib in /Users/margotwu/anaconda3/lib/python3.11/site-packages (from pingouin) (3.7.1)\n",
      "Requirement already satisfied: seaborn in /Users/margotwu/anaconda3/lib/python3.11/site-packages (from pingouin) (0.12.2)\n",
      "Requirement already satisfied: statsmodels in /Users/margotwu/anaconda3/lib/python3.11/site-packages (from pingouin) (0.14.0)\n",
      "Requirement already satisfied: scikit-learn in /Users/margotwu/anaconda3/lib/python3.11/site-packages (from pingouin) (1.3.0)\n",
      "Requirement already satisfied: pandas-flavor in /Users/margotwu/anaconda3/lib/python3.11/site-packages (from pingouin) (0.6.0)\n",
      "Requirement already satisfied: tabulate in /Users/margotwu/anaconda3/lib/python3.11/site-packages (from pingouin) (0.8.10)\n",
      "Requirement already satisfied: python-dateutil>=2.8.1 in /Users/margotwu/anaconda3/lib/python3.11/site-packages (from pandas>=1.5->pingouin) (2.8.2)\n",
      "Requirement already satisfied: pytz>=2020.1 in /Users/margotwu/anaconda3/lib/python3.11/site-packages (from pandas>=1.5->pingouin) (2022.7)\n",
      "Requirement already satisfied: contourpy>=1.0.1 in /Users/margotwu/anaconda3/lib/python3.11/site-packages (from matplotlib->pingouin) (1.0.5)\n",
      "Requirement already satisfied: cycler>=0.10 in /Users/margotwu/anaconda3/lib/python3.11/site-packages (from matplotlib->pingouin) (0.11.0)\n",
      "Requirement already satisfied: fonttools>=4.22.0 in /Users/margotwu/anaconda3/lib/python3.11/site-packages (from matplotlib->pingouin) (4.25.0)\n",
      "Requirement already satisfied: kiwisolver>=1.0.1 in /Users/margotwu/anaconda3/lib/python3.11/site-packages (from matplotlib->pingouin) (1.4.4)\n",
      "Requirement already satisfied: packaging>=20.0 in /Users/margotwu/anaconda3/lib/python3.11/site-packages (from matplotlib->pingouin) (23.0)\n",
      "Requirement already satisfied: pillow>=6.2.0 in /Users/margotwu/anaconda3/lib/python3.11/site-packages (from matplotlib->pingouin) (9.4.0)\n",
      "Requirement already satisfied: pyparsing>=2.3.1 in /Users/margotwu/anaconda3/lib/python3.11/site-packages (from matplotlib->pingouin) (3.0.9)\n",
      "Requirement already satisfied: xarray in /Users/margotwu/anaconda3/lib/python3.11/site-packages (from pandas-flavor->pingouin) (2023.6.0)\n",
      "Requirement already satisfied: joblib>=1.1.1 in /Users/margotwu/anaconda3/lib/python3.11/site-packages (from scikit-learn->pingouin) (1.2.0)\n",
      "Requirement already satisfied: threadpoolctl>=2.0.0 in /Users/margotwu/anaconda3/lib/python3.11/site-packages (from scikit-learn->pingouin) (2.2.0)\n",
      "Requirement already satisfied: patsy>=0.5.2 in /Users/margotwu/anaconda3/lib/python3.11/site-packages (from statsmodels->pingouin) (0.5.3)\n",
      "Requirement already satisfied: six in /Users/margotwu/anaconda3/lib/python3.11/site-packages (from patsy>=0.5.2->statsmodels->pingouin) (1.16.0)\n"
     ]
    }
   ],
   "source": [
    "import pandas as pd # used for data wrangling\n",
    "import seaborn as sns # used for visualization\n",
    "import matplotlib  # used for visualization\n",
    "from matplotlib import pyplot as plt # used for visualization\n",
    "import pylab # used for visualization \n",
    "! pip install pingouin\n",
    "import pingouin as pg # used for conducting statistical analysis and exploring relationships within datasets\n",
    "\n",
    "df_mh = pd.read_csv('MillerHadenData.csv')\n",
    "\n"
   ]
  },
  {
   "cell_type": "code",
   "execution_count": 6,
   "metadata": {
    "id": "rwqidw5q2D1n"
   },
   "outputs": [
    {
     "name": "stdout",
     "output_type": "stream",
     "text": [
      "   Participant  Abil   IQ  Home   TV\n",
      "0            1    61  107   144  487\n",
      "1            2    56  109   123  608\n",
      "2            3    45   81   108  640\n",
      "3            4    66  100   155  493\n",
      "4            5    49   92   103  636\n",
      "<class 'pandas.core.frame.DataFrame'>\n",
      "RangeIndex: 25 entries, 0 to 24\n",
      "Data columns (total 5 columns):\n",
      " #   Column       Non-Null Count  Dtype\n",
      "---  ------       --------------  -----\n",
      " 0   Participant  25 non-null     int64\n",
      " 1   Abil         25 non-null     int64\n",
      " 2   IQ           25 non-null     int64\n",
      " 3   Home         25 non-null     int64\n",
      " 4   TV           25 non-null     int64\n",
      "dtypes: int64(5)\n",
      "memory usage: 1.1 KB\n",
      "None\n"
     ]
    }
   ],
   "source": [
    "# Q1a (code):\n",
    "# Display first few rows of the dataframe\n",
    "print(df_mh.head())\n",
    "\n",
    "# Check data types and information\n",
    "print(df_mh.info())\n"
   ]
  },
  {
   "cell_type": "markdown",
   "metadata": {},
   "source": [
    "\n",
    "Based on the results, we can determine the types of data as follows:\n",
    "    \n",
    "\n",
    "Participant: This appears to be an identifier or label for each individual in the dataset. It is categorical data.\n",
    "    \n",
    "\n",
    "Abil (Ability): This variable represents some measure of ability. Since it is measured on an interval scale (numeric values with meaningful distances between them), it is interval data.\n",
    "    \n",
    "\n",
    "IQ (Intelligence Quotient): Similarly, IQ is measured on a scale with meaningful distances between values, making it interval data.\n",
    "    \n",
    "\n",
    "Home: This variable likely represents some measure related to home environment or conditions. Without further context, it's difficult to definitively classify it. If it represents categories (e.g., types of homes), it could be ordinal data. If it represents actual measurements (e.g., square footage of homes), it could be interval or ratio data.\n",
    "    \n",
    "\n",
    "TV: This variable likely represents some measure related to television usage or ownership. Similar to the \"Home\" variable, without further context, it's difficult to definitively classify it. If it represents categories (e.g., types of TVs), it could be ordinal data. If it represents actual measurements (e.g., hours of TV watched per day), it could be interval or ratio data.\n",
    "    \n",
    "\n",
    "In summary:\n",
    "\n",
    "Abil and IQ are interval data.\n",
    "Home and TV may be ordinal, interval, or ratio data depending on their specific meaning, which would require additional context to determine accurately.\n",
    "\n",
    "\n",
    "\n",
    "\n"
   ]
  },
  {
   "cell_type": "code",
   "execution_count": 7,
   "metadata": {
    "id": "Edd9mYgi2Jar"
   },
   "outputs": [
    {
     "name": "stdout",
     "output_type": "stream",
     "text": [
      "Participant    0\n",
      "Abil           0\n",
      "IQ             0\n",
      "Home           0\n",
      "TV             0\n",
      "dtype: int64\n"
     ]
    }
   ],
   "source": [
    "# Q1b (code):\n",
    "# Check for missing values\n",
    "print(df_mh.isnull().sum())\n",
    "\n",
    "# Check whether there is a data point for each participant on both variables\n",
    "participants_with_both_variables = df_mh.dropna(subset=['Abil', 'IQ'])['Participant'].unique()\n",
    "all_participants = df_mh['Participant'].unique()\n",
    "\n"
   ]
  },
  {
   "cell_type": "markdown",
   "metadata": {},
   "source": [
    "According to the output, there are no missing values (denoted as 0) for each variable: Participant, Abil, IQ, Home, and TV. This means that there is a data point for each participant on all variables in the dataset. Therefore, for each participant, there are measurements available for both Abil and IQ variables."
   ]
  },
  {
   "cell_type": "code",
   "execution_count": 8,
   "metadata": {
    "id": "3ALe0fjr2K5h"
   },
   "outputs": [
    {
     "name": "stdout",
     "output_type": "stream",
     "text": [
      "       Participant       Abil          IQ        Home          TV\n",
      "count    25.000000  25.000000   25.000000   25.000000   25.000000\n",
      "mean     13.000000  55.120000  100.040000  124.000000  599.920000\n",
      "std       7.359801   6.084954    9.043782   21.039645   95.056965\n",
      "min       1.000000  45.000000   81.000000   87.000000  407.000000\n",
      "25%       7.000000  50.000000   95.000000  108.000000  523.000000\n",
      "50%      13.000000  54.000000  100.000000  123.000000  636.000000\n",
      "75%      19.000000  61.000000  104.000000  141.000000  673.000000\n",
      "max      25.000000  67.000000  118.000000  161.000000  787.000000\n"
     ]
    }
   ],
   "source": [
    "# Q1c (code):\n",
    "# Check data distribution\n",
    "print(df_mh.describe())\n"
   ]
  },
  {
   "cell_type": "markdown",
   "metadata": {},
   "source": [
    "We cannot directly ascertain whether the variables Abil and IQ strictly follow a normal distribution. Although we can observe the mean, standard deviation, median, and percentiles of the data, these statistics alone are not sufficient to determine normality. We can use scatter plots and correlation lines to observe the distribution and the relationship between variables, but they are not definitive tests for normality."
   ]
  },
  {
   "cell_type": "code",
   "execution_count": 9,
   "metadata": {
    "id": "xaQ300fY2MPe"
   },
   "outputs": [
    {
     "data": {
      "image/png": "[encoded data removed]",
      "text/plain": [
       "<Figure size 800x600 with 1 Axes>"
      ]
     },
     "metadata": {},
     "output_type": "display_data"
    }
   ],
   "source": [
    "# Q1d (code):\n",
    "# Scatter plot\n",
    "plt.figure(figsize=(8, 6))\n",
    "plt.scatter(df_mh['Abil'], df_mh['IQ'], color='blue', alpha=0.5)\n",
    "plt.title('Scatter Plot of Abil vs. IQ')\n",
    "plt.xlabel('Abil')\n",
    "plt.ylabel('IQ')\n",
    "plt.grid(True)\n",
    "plt.show()\n",
    "\n"
   ]
  },
  {
   "cell_type": "code",
   "execution_count": 10,
   "metadata": {
    "id": "Zpkwqc382N06"
   },
   "outputs": [
    {
     "data": {
      "image/png": "[encoded data removed]",
      "text/plain": [
       "<Figure size 640x480 with 1 Axes>"
      ]
     },
     "metadata": {},
     "output_type": "display_data"
    }
   ],
   "source": [
    "# Q1e (code):\n",
    "# Correlation line\n",
    "corr = df_mh['Abil'].corr(df_mh['IQ'])\n",
    "plt.plot(df_mh['Abil'], df_mh['Abil'] * corr, color='red', linestyle='-', linewidth=2, label=f'Correlation: {corr:.2f}')\n",
    "plt.legend()\n",
    "\n",
    "plt.show()"
   ]
  },
  {
   "cell_type": "markdown",
   "metadata": {
    "id": "tKtW2diqZq1S"
   },
   "source": [
    "**Question 2**:\n",
    "\n",
    "a. Which correlation coefficient test can we use, Pearson or Spearman? Briefly explian why based on the results of Question 1.\n",
    "\n",
    "b. Conduct a correlation coefficient test.\n",
    "\n",
    "c. Interpret the result (direction and strength of the association between the two varibles)"
   ]
  },
  {
   "cell_type": "markdown",
   "metadata": {
    "id": "t5GRVxHwaKIS"
   },
   "source": [
    "# Q2a (answer with words):\n",
    "We can utilize the Pearson correlation coefficient, which measures the strength and direction of the linear relationship between two variables. It assumes that the relationship between variables is linear and is typically used for analyzing correlations between continuous variables. Given our analytical objective of detecting whether there is a relationship between intellect and reading ability, as observed from the Correlation line plot in Question 1, which indicates a linear relationship between the two, and also supported by the scatter plot showing a linear distribution of data points, we can hypothesize that the relationship between intellect and reading ability exhibits linear correlation."
   ]
  },
  {
   "cell_type": "code",
   "execution_count": 38,
   "metadata": {
    "id": "LTSp6xMFaKgf"
   },
   "outputs": [
    {
     "name": "stdout",
     "output_type": "stream",
     "text": [
      "Pearson correlation coefficient: 0.45\n",
      "P-value: 0.0236\n"
     ]
    }
   ],
   "source": [
    "# Q2b (code):\n",
    "from scipy.stats import pearsonr\n",
    "\n",
    "\n",
    "pearson_corr, p_value = pearsonr(df_mh['IQ'], df_mh['Abil'])\n",
    "\n",
    "print(f\"Pearson correlation coefficient: {pearson_corr:.2f}\")\n",
    "print(f\"P-value: {p_value:.4f}\")\n"
   ]
  },
  {
   "cell_type": "markdown",
   "metadata": {
    "id": "m_3aCSG7ylFJ"
   },
   "source": [
    "# Q2c (answer with words):\n",
    "The Pearson correlation coefficient of 0.45 indicates a positive linear relationship between intellect (IQ) and reading ability (Abil). The p-value of 0.0236 suggests that the probability of observing such a correlation coefficient or more extreme under the null hypothesis is approximately 2.36%. Since the p-value is less than the significance level (typically set at 0.05), we can reject the null hypothesis, confirming that this correlation coefficient is significant. Taken together, these results indicate a significant positive linear relationship of moderate strength between intellect (IQ) and reading ability (Abil)."
   ]
  },
  {
   "cell_type": "markdown",
   "metadata": {
    "id": "mogdaz8P27oU"
   },
   "source": [
    "## Task 2. Chi-square Test\n",
    "We will continue to use the data example from Task 1.\n",
    "\n",
    "We want to explore whether there are significant differences in the amount of time spent reading at home per week (Home) among people with different reading abilities (Reading Ability). Therefore, we will divide the reading ability of all participants into two groups. The first group is those with low reading ability (Reading Ability at or below the rounded average), and the second group is those with high reading ability (Reading Ability above the rounded average). We will store this grouping in a new column named \"Rank_Abil\".\n",
    "\n",
    "\n",
    "Similarly, the reading time is divided into two different scenarios: the first scenario is infrequent reading (Home at or below the rounded average), and the other is frequent reading (Reading Ability above the rounded average). We will store this grouping in a new column named \"Rank_Home\".\n",
    "\n",
    "\n",
    "Then, construct a Contingency Matrix and perform a Chi-square test.\n",
    "\n",
    "**Question 3**:\n",
    "\n",
    "a. Please state the null hypothesis (H0) and alternative hypothesis (H1) for this Chi-square test.\n",
    "\n",
    "b. Based on the task description, add new columns “Rank_Abil” and \"Rank_Home\" to the dataframe df_mh.\n",
    "\n",
    "c. Construct a Contingency Matrix.\n",
    "\n",
    "d. Perform a Chi-square test.\n",
    "\n",
    "e. Interpret the results of the Chi-square test (answer in text)."
   ]
  },
  {
   "cell_type": "markdown",
   "metadata": {
    "id": "tIKHfEwG-Pte"
   },
   "source": [
    "# Q3a (answer in words):\n",
    " H0:The distribution of reading ability (low vs. high) is independent of the distribution of the amount of time spent reading at home per week (infrequent vs. frequent).\n",
    " \n",
    " \n",
    " H1：There is a dependence between reading ability (low vs. high) and the amount of time spent reading at home per week (infrequent vs. frequent)."
   ]
  },
  {
   "cell_type": "code",
   "execution_count": 12,
   "metadata": {
    "id": "nlO-hmq2-V2Z"
   },
   "outputs": [
    {
     "name": "stdout",
     "output_type": "stream",
     "text": [
      "   Participant  Abil   IQ  Home   TV Rank_Abil   Rank_Home\n",
      "0            1    61  107   144  487      high    frequent\n",
      "1            2    56  109   123  608      high  infrequent\n",
      "2            3    45   81   108  640       low  infrequent\n",
      "3            4    66  100   155  493      high    frequent\n",
      "4            5    49   92   103  636       low  infrequent\n"
     ]
    }
   ],
   "source": [
    "# Q3b (code):\n",
    "# Import necessary libraries\n",
    "import pandas as pd  ##used for data manipulation and analysis\n",
    "from scipy.stats import chi2_contingency ##used for performing the chi-square test of independence on two categorical variables\n",
    "\n",
    "# Define the rounded average for Reading Ability and Home\n",
    "rounded_avg_abil = round(df_mh['Abil'].mean())\n",
    "rounded_avg_home = round(df_mh['Home'].mean())\n",
    "\n",
    "\n",
    "# Create the Rank_Abil column\n",
    "df_mh['Rank_Abil'] = df_mh['Abil'].apply(lambda x: 'low' if x <= rounded_avg_abil else 'high')\n",
    "\n",
    "\n",
    "# Create the Rank_Home column\n",
    "df_mh['Rank_Home'] = df_mh['Home'].apply(lambda x: 'infrequent' if x <= rounded_avg_home else 'frequent')\n",
    "\n",
    "print(df_mh.head())"
   ]
  },
  {
   "cell_type": "code",
   "execution_count": 13,
   "metadata": {
    "id": "jjtp4cm4-Y36"
   },
   "outputs": [
    {
     "name": "stdout",
     "output_type": "stream",
     "text": [
      "Rank_Home  frequent  infrequent\n",
      "Rank_Abil                      \n",
      "high              8           2\n",
      "low               3          12\n"
     ]
    }
   ],
   "source": [
    "# Q3c (code):\n",
    "# Construct Contingency Matrix\n",
    "contingency_matrix = pd.crosstab(df_mh['Rank_Abil'], df_mh['Rank_Home'])\n",
    "print(contingency_matrix)"
   ]
  },
  {
   "cell_type": "code",
   "execution_count": 14,
   "metadata": {
    "id": "gyDS8hq2-bmx"
   },
   "outputs": [
    {
     "name": "stdout",
     "output_type": "stream",
     "text": [
      "Chi-square statistic: 6.500270562770561\n",
      "P-value: 0.010785807794066234\n",
      "Degrees of freedom: 1\n",
      "Expected frequencies:\n",
      "[[4.4 5.6]\n",
      " [6.6 8.4]]\n"
     ]
    }
   ],
   "source": [
    "# Q3d (code):\n",
    "# Perform the Chi-square test\n",
    "from scipy.stats import chi2_contingency\n",
    "chi2_stat, p_val, dof, expected_freq = chi2_contingency(contingency_matrix)\n",
    "print(\"Chi-square statistic:\", chi2_stat)\n",
    "print(\"P-value:\", p_val)\n",
    "print(\"Degrees of freedom:\", dof)\n",
    "print(\"Expected frequencies:\")\n",
    "print(expected_freq)\n"
   ]
  },
  {
   "cell_type": "markdown",
   "metadata": {
    "id": "fj0gW0pS-dN5"
   },
   "source": [
    "# Q3e (answer in words):\n",
    "\n",
    "Based on the Chi-square test results:\n",
    "\n",
    "The Chi-square statistic is 6.50, indicating a significant difference between the observed data and the expected independence model.\n",
    "The p-value is 0.0108, which is less than the typical significance level (e.g., 0.05). Thus, we reject the null hypothesis and conclude that there is a significant association between reading ability and time spent reading at home.\n",
    "There is 1 degree of freedom because there are two categories of variables (low reading ability vs. high reading ability) when constructing the contingency table.\n",
    "The expected frequencies table shows the expected frequencies in each cell under the null hypothesis.\n",
    "In conclusion, based on the Chi-square test, we can conclude that there is a significant association between reading ability and time spent reading at home in the given data.\n"
   ]
  },
  {
   "cell_type": "markdown",
   "metadata": {
    "id": "FgYRxqqpaUIk"
   },
   "source": [
    "## Task 3. Two-sample t-test\n",
    "As we discussed on Week 3, Two-sample designs are very useful when we want to know whether there is a difference between groups on a particular variable.\n",
    "\n",
    "In this assignment, you will be guided to replicate the Experiment 4 (p. 887-888) from the paper below, focusing on understanding the data through descriptive statistics, visualizing distributions, testing assumptions (normality and variance homogeneity), and finally performing the independent t-test.\n",
    "\n",
    "Schroeder, J. and Epley, N. (2015). The sound of intellect: Speech reveals a thoughtful mind, increasing a job candidate's appeal. Psychological Science, 26, 277--891.\n",
    "\n",
    "\n",
    "As we explained during Week 3 lecture, there are different types of two-sample designs depending on whether or not the two groups are independent (e.g., different participants in different conditions) or not (e.g., same participants in different conditions). In this course we focus on independent samples, which typically means that the observations in the two groups are unrelated - usually meaning different people. But in real practice you will need to go through similar procedures to determine which is the proper statistical test to use.\n",
    "\n",
    "\n",
    "\n",
    "\n",
    "### Background of data: Speech as indicator of intellect\n",
    "To recap on Experiment 4, 39 professional recruiters from Fortune 500 companies evaluated job pitches of M.B.A. candidates (Masters in Business Administration) from the University of Chicago Booth School of Business. The methods and results appear on pages 887--889 of the article if you want to look at them specifically for more details."
   ]
  },
  {
   "cell_type": "markdown",
   "metadata": {
    "id": "vIc57Glgn5Bb"
   },
   "source": [
    "###Step 1: Analyze the demographics of evaluators from the provided dataset\n",
    "\n",
    "**Instructions:**\n",
    "\n",
    "1. Load the necessary libraries (pandas, scipy, numpy, matplotlib.pyplot, seaborn) and explain why you need them (\"#used for ...\").\n",
    "\n",
    "2. Read the evaluators.csv file into a DataFrame.\n",
    "\n",
    "3. Calculate the mean and standard deviation of the age of the evaluators, handling missing values appropriately.\n",
    "\n",
    "4. Count how many male and female evaluators were in the study.\n",
    "\n",
    "**Question 4:**\n",
    "\n",
    "a. What was the mean age of the evaluators?\n",
    "What was the standard deviation of the age of the evaluators?\n",
    "\n",
    "b. How many participants were female and how many participants were male?\n"
   ]
  },
  {
   "cell_type": "code",
   "execution_count": 15,
   "metadata": {
    "id": "RgnTye-yojyH"
   },
   "outputs": [
    {
     "data": {
      "text/html": [
       "<div>\n",
       "<style scoped>\n",
       "    .dataframe tbody tr th:only-of-type {\n",
       "        vertical-align: middle;\n",
       "    }\n",
       "\n",
       "    .dataframe tbody tr th {\n",
       "        vertical-align: top;\n",
       "    }\n",
       "\n",
       "    .dataframe thead th {\n",
       "        text-align: right;\n",
       "    }\n",
       "</style>\n",
       "<table border=\"1\" class=\"dataframe\">\n",
       "  <thead>\n",
       "    <tr style=\"text-align: right;\">\n",
       "      <th></th>\n",
       "      <th>eval_id</th>\n",
       "      <th>condition</th>\n",
       "      <th>age</th>\n",
       "      <th>sex</th>\n",
       "    </tr>\n",
       "  </thead>\n",
       "  <tbody>\n",
       "    <tr>\n",
       "      <th>0</th>\n",
       "      <td>1</td>\n",
       "      <td>listened</td>\n",
       "      <td>29.0</td>\n",
       "      <td>2.0</td>\n",
       "    </tr>\n",
       "    <tr>\n",
       "      <th>1</th>\n",
       "      <td>2</td>\n",
       "      <td>listened</td>\n",
       "      <td>27.0</td>\n",
       "      <td>2.0</td>\n",
       "    </tr>\n",
       "    <tr>\n",
       "      <th>2</th>\n",
       "      <td>3</td>\n",
       "      <td>listened</td>\n",
       "      <td>27.0</td>\n",
       "      <td>2.0</td>\n",
       "    </tr>\n",
       "    <tr>\n",
       "      <th>3</th>\n",
       "      <td>4</td>\n",
       "      <td>read</td>\n",
       "      <td>40.0</td>\n",
       "      <td>2.0</td>\n",
       "    </tr>\n",
       "    <tr>\n",
       "      <th>4</th>\n",
       "      <td>5</td>\n",
       "      <td>read</td>\n",
       "      <td>32.0</td>\n",
       "      <td>2.0</td>\n",
       "    </tr>\n",
       "  </tbody>\n",
       "</table>\n",
       "</div>"
      ],
      "text/plain": [
       "   eval_id condition   age  sex\n",
       "0        1  listened  29.0  2.0\n",
       "1        2  listened  27.0  2.0\n",
       "2        3  listened  27.0  2.0\n",
       "3        4      read  40.0  2.0\n",
       "4        5      read  32.0  2.0"
      ]
     },
     "execution_count": 15,
     "metadata": {},
     "output_type": "execute_result"
    }
   ],
   "source": [
    "\n",
    "import pandas as pd # used for data manipulation and analysis\n",
    "from scipy import stats #uesd for statistical analysis\n",
    "import numpy as np #used for multi-dimensional arrays and matrices\n",
    "import matplotlib.pyplot as plt #used for visualization\n",
    "import seaborn as sns #used for visualization\n",
    "\n",
    "# Load the data\n",
    "df_evaluators = pd.read_csv('evaluators.csv')\n",
    "df_evaluators.head()\n"
   ]
  },
  {
   "cell_type": "code",
   "execution_count": 17,
   "metadata": {
    "id": "eDw0XnX3BRhe"
   },
   "outputs": [
    {
     "name": "stdout",
     "output_type": "stream",
     "text": [
      "Mean age: 30.852941176470587\n",
      "Standard deviation of age: 6.238358141327351\n"
     ]
    }
   ],
   "source": [
    "# Q4a (code):\n",
    "# Calculate mean and standard deviation for age\n",
    "mean_age = df_evaluators['age'].mean()\n",
    "std_dev_age = df_evaluators['age'].std()\n",
    "\n",
    "print(\"Mean age:\", mean_age)\n",
    "print(\"Standard deviation of age:\", std_dev_age)\n"
   ]
  },
  {
   "cell_type": "markdown",
   "metadata": {},
   "source": [
    "The mean age of the evaluators is 30.852, and the standard deviation of the age of the evaluators is 6.238."
   ]
  },
  {
   "cell_type": "code",
   "execution_count": 18,
   "metadata": {
    "id": "I0tU57R5ufRI"
   },
   "outputs": [
    {
     "name": "stdout",
     "output_type": "stream",
     "text": [
      "Number of male evaluators: 4\n",
      "Number of female evaluators: 30\n"
     ]
    }
   ],
   "source": [
    "# Q4b (code)\n",
    "# Count male and female evaluators\n",
    "# In the 'sex' column: 1 represents males and 2 represents females\n",
    "male_count = (df_evaluators['sex'] == 1).sum()\n",
    "female_count = (df_evaluators['sex'] == 2).sum()\n",
    "\n",
    "print(\"Number of male evaluators:\", male_count)\n",
    "print(\"Number of female evaluators:\", female_count)"
   ]
  },
  {
   "cell_type": "markdown",
   "metadata": {},
   "source": [
    "According to the results, 4 participants are male and 30 participants are female."
   ]
  },
  {
   "cell_type": "markdown",
   "metadata": {
    "id": "KK-MdZfdpDI3"
   },
   "source": [
    "###Step 2: Calculate overall intellect ratings from evaluators and prepare a combined dataset for analysis\n",
    "\n",
    "We are now going to calculate an overall intellect rating given by each evaluator. To break that down a bit, we are going to calculate how intellectual the evaluators (the raters) thought candidates were overall, depending on whether the evaluators read or listened to the candidates' resume pitches. This is calculated by averaging the ratings of competent, thoughtful and intelligent for each evaluator held within ratings.csv.\n",
    "\n",
    "Note: We are not looking at ratings to individual candidates; we are looking at overall ratings for each evaluator. This is a bit confusing but makes sense if you stop to think about it a little. You can think about it in terms of \"do raters rate differently depending on whether they read or listen to a resume pitch\".\n",
    "We will then combine the overall intellect rating with the overall impression ratings and overall hire ratings for each evaluator, all ready found in ratings.csv. In the end we will have a new new dataframe named \"ratings2\" - which has the below structure:\n",
    "\n",
    "**eval_id** shows the evaluator ID. Each evaluator has a different ID. So all the 1's are the same evaluator.\n",
    "\n",
    "**Category** shows the scale that they were rating on - intellect, hire, impression\n",
    "\n",
    "**Rating** shows the overall rating given by that evaluator on a given scale.\n",
    "\n",
    "**condition** shows whether that evaluator listened to (e.g., evaluators 1, 2 and 3), or read (e.g., evaluator 4) the resume.\n",
    "\n",
    "\n",
    "**Instructions:**\n",
    "\n",
    "1. Load the ratings.csv file.\n",
    "\n",
    "2. Filter and calculate the mean intellect rating for each evaluator.\n",
    "\n",
    "3. Combine this with overall impression and hire ratings to create a new DataFrame named \"rating2\".\n",
    "\n",
    "4. Merge this DataFrame with the evaluator demographics.\n",
    "\n",
    "**Question 5**:\n",
    "\n",
    "Print the head of \"rating2\".\n"
   ]
  },
  {
   "cell_type": "code",
   "execution_count": 19,
   "metadata": {
    "id": "l85NzSC-pj57"
   },
   "outputs": [
    {
     "data": {
      "text/html": [
       "<div>\n",
       "<style scoped>\n",
       "    .dataframe tbody tr th:only-of-type {\n",
       "        vertical-align: middle;\n",
       "    }\n",
       "\n",
       "    .dataframe tbody tr th {\n",
       "        vertical-align: top;\n",
       "    }\n",
       "\n",
       "    .dataframe thead th {\n",
       "        text-align: right;\n",
       "    }\n",
       "</style>\n",
       "<table border=\"1\" class=\"dataframe\">\n",
       "  <thead>\n",
       "    <tr style=\"text-align: right;\">\n",
       "      <th></th>\n",
       "      <th>eval_id</th>\n",
       "      <th>Category</th>\n",
       "      <th>Rating</th>\n",
       "    </tr>\n",
       "  </thead>\n",
       "  <tbody>\n",
       "    <tr>\n",
       "      <th>0</th>\n",
       "      <td>1</td>\n",
       "      <td>competent</td>\n",
       "      <td>6.0</td>\n",
       "    </tr>\n",
       "    <tr>\n",
       "      <th>1</th>\n",
       "      <td>1</td>\n",
       "      <td>thoughtful</td>\n",
       "      <td>6.0</td>\n",
       "    </tr>\n",
       "    <tr>\n",
       "      <th>2</th>\n",
       "      <td>1</td>\n",
       "      <td>intelligent</td>\n",
       "      <td>6.0</td>\n",
       "    </tr>\n",
       "    <tr>\n",
       "      <th>3</th>\n",
       "      <td>1</td>\n",
       "      <td>impression</td>\n",
       "      <td>7.0</td>\n",
       "    </tr>\n",
       "    <tr>\n",
       "      <th>4</th>\n",
       "      <td>1</td>\n",
       "      <td>hire</td>\n",
       "      <td>6.0</td>\n",
       "    </tr>\n",
       "  </tbody>\n",
       "</table>\n",
       "</div>"
      ],
      "text/plain": [
       "   eval_id     Category  Rating\n",
       "0        1    competent     6.0\n",
       "1        1   thoughtful     6.0\n",
       "2        1  intelligent     6.0\n",
       "3        1   impression     7.0\n",
       "4        1         hire     6.0"
      ]
     },
     "execution_count": 19,
     "metadata": {},
     "output_type": "execute_result"
    }
   ],
   "source": [
    "# Load ratings data\n",
    "df_ratings = pd.read_csv('ratings.csv')\n",
    "df_ratings.head()\n"
   ]
  },
  {
   "cell_type": "code",
   "execution_count": 29,
   "metadata": {
    "id": "5dxtVUSMBZwf"
   },
   "outputs": [
    {
     "data": {
      "text/html": [
       "<div>\n",
       "<style scoped>\n",
       "    .dataframe tbody tr th:only-of-type {\n",
       "        vertical-align: middle;\n",
       "    }\n",
       "\n",
       "    .dataframe tbody tr th {\n",
       "        vertical-align: top;\n",
       "    }\n",
       "\n",
       "    .dataframe thead th {\n",
       "        text-align: right;\n",
       "    }\n",
       "</style>\n",
       "<table border=\"1\" class=\"dataframe\">\n",
       "  <thead>\n",
       "    <tr style=\"text-align: right;\">\n",
       "      <th></th>\n",
       "      <th>eval_id</th>\n",
       "      <th>Category</th>\n",
       "      <th>Rating</th>\n",
       "      <th>condition</th>\n",
       "    </tr>\n",
       "  </thead>\n",
       "  <tbody>\n",
       "    <tr>\n",
       "      <th>0</th>\n",
       "      <td>1</td>\n",
       "      <td>hire</td>\n",
       "      <td>6.000000</td>\n",
       "      <td>listened</td>\n",
       "    </tr>\n",
       "    <tr>\n",
       "      <th>1</th>\n",
       "      <td>1</td>\n",
       "      <td>impression</td>\n",
       "      <td>7.000000</td>\n",
       "      <td>listened</td>\n",
       "    </tr>\n",
       "    <tr>\n",
       "      <th>2</th>\n",
       "      <td>1</td>\n",
       "      <td>intellect</td>\n",
       "      <td>6.000000</td>\n",
       "      <td>listened</td>\n",
       "    </tr>\n",
       "    <tr>\n",
       "      <th>3</th>\n",
       "      <td>2</td>\n",
       "      <td>hire</td>\n",
       "      <td>4.000000</td>\n",
       "      <td>listened</td>\n",
       "    </tr>\n",
       "    <tr>\n",
       "      <th>4</th>\n",
       "      <td>2</td>\n",
       "      <td>impression</td>\n",
       "      <td>4.666667</td>\n",
       "      <td>listened</td>\n",
       "    </tr>\n",
       "  </tbody>\n",
       "</table>\n",
       "</div>"
      ],
      "text/plain": [
       "   eval_id    Category    Rating condition\n",
       "0        1        hire  6.000000  listened\n",
       "1        1  impression  7.000000  listened\n",
       "2        1   intellect  6.000000  listened\n",
       "3        2        hire  4.000000  listened\n",
       "4        2  impression  4.666667  listened"
      ]
     },
     "execution_count": 29,
     "metadata": {},
     "output_type": "execute_result"
    }
   ],
   "source": [
    "# Q5 (code):\n",
    "# Filter the ratings DataFrame to include only 'thoughtful', 'competent', and 'intelligent' categories\n",
    "filtered_ratings = df_ratings[df_ratings['Category'].isin(['thoughtful', 'competent', 'intelligent'])]\n",
    "\n",
    "\n",
    "# Calculate the mean intellect rating for each evaluator\n",
    "# Group by 'eval_id' and calculate mean, then reset the index to convert groupby object back to DataFrame\n",
    "intellect_mean = filtered_ratings.groupby('eval_id')['Rating'].mean().reset_index()\n",
    "\n",
    "\n",
    "# Add a 'Category' column with the value 'intellect' for these rows\n",
    "intellect_mean['Category'] = 'intellect'\n",
    "\n",
    "\n",
    "# Create a DataFrame for 'impression' and 'hire' ratings\n",
    "other_ratings = df_ratings[~df_ratings['Category'].isin(['thoughtful', 'competent', 'intelligent'])]\n",
    "\n",
    "# Combine the DataFrames to create 'ratings2'\n",
    "# Concatenate the 'intellect_mean' DataFrame with the 'other_ratings' DataFrame\n",
    "ratings2 = pd.concat([intellect_mean, other_ratings])\n",
    "\n",
    "\n",
    "# Join 'ratings2' with the 'df_evaluators' DataFrame to add the 'condition' column\n",
    "ratings2 = pd.merge(ratings2, df_evaluators[['eval_id', 'condition']], on='eval_id')\n",
    "\n",
    "\n",
    "# Select only the necessary columns as per the structure required\n",
    "ratings2 = ratings2[['eval_id', 'Category', 'Rating', 'condition']]\n",
    "\n",
    "# Arrange by 'eval_id' and 'Category'\n",
    "ratings2 = ratings2.sort_values(by=['eval_id', 'Category']).reset_index(drop=True)\n",
    "\n",
    "# Display the first few rows of the final 'ratings2' DataFrame to verify\n",
    "ratings2.head()"
   ]
  },
  {
   "cell_type": "markdown",
   "metadata": {
    "id": "fOmtKCzEpoOa"
   },
   "source": [
    "###Step 3: Perform descriptive and inferential statistical analyses, including testing assumptions and conducting independent t-tests.\n",
    "\n",
    "We are going to run the t-tests for Intellect, Hire and Impression; each time comparing evaluators overall ratings for the listened group versus overall ratings for the read group to see if there was a significant difference between the two conditions: i.e., did the evaluators who listened to pitches give a significant higher or lower rating than evaluators that read pitches?\n",
    "\n",
    "**Question 6**:\n",
    "\n",
    "a. In terms of hypotheses, how can we phrase the hypothesis?\n",
    "\n",
    "b. Which t-test should we choose, one-tail or two-tail? And explian why.\n",
    "\n",
    "c. What are the independent variable and the dependent variable here?\n",
    "\n"
   ]
  },
  {
   "cell_type": "markdown",
   "metadata": {
    "id": "duti45rG22eS"
   },
   "source": [
    "# Q6a (answer in words):\n",
    "\n",
    "Null hypothesis:\n",
    "There is no significant difference in overall ratings (intellect/hire/impression) between evaluators who listened to pitches and evaluators who read pitches.\n",
    "\n",
    "Alternative hypothesis:\n",
    "There is a significant difference in overall ratings (intellect/hire/impression) between evaluators who listened to pitches and evaluators who read pitches.\n",
    "\n",
    "We could phrase the null hypothesis for these tests as there is no significant difference between overall ratings on the {insert trait} scale between evaluators who listened to resume pitches and evaluators who read the resume pitches (H0:μ1=μ2). Alternatively, we could state it as there will be a significant difference between overall ratings on the {insert trait} scale between evaluators who listened to resume pitches and evaluators who read the resume pitches (H1:μ1≠μ2)."
   ]
  },
  {
   "cell_type": "markdown",
   "metadata": {
    "id": "EkoM_0js3fyS"
   },
   "source": [
    "# Q6b (answer in words):\n",
    "# Which t-test should we choose, one-tail or two-tail? Explian why.\n",
    "\n",
    "In this situation, we should choose a two-tailed t-test.\n",
    "\n",
    "A two-tailed test is appropriate when we are interested in whether there is a significant difference between the two groups, but we don't have an a priori hypothesis about the direction of the difference. In other words, we want to know if there is any difference between the listened group and the read group, regardless of whether the listened group's ratings are higher or lower than the read group's ratings."
   ]
  },
  {
   "cell_type": "markdown",
   "metadata": {
    "id": "073zOlIsI5ws"
   },
   "source": [
    "# Q6c (answer in words):\n",
    "# What are the independent variable and the dependent variable here?\n",
    "The independent variable is the condition under which the evaluators reviewed the pitches. Specifically, it is the mode of presentation of the pitches: whether the evaluators listened to the pitches or read them.\n",
    "\n",
    "The dependent variable, on the other hand, is the overall ratings given by the evaluators. These ratings can be related to various aspects such as intellect, hireability, or overall impression. Therefore, the dependent variable is the evaluators' overall ratings.\n"
   ]
  },
  {
   "cell_type": "markdown",
   "metadata": {
    "id": "4g-SpuDX23iL"
   },
   "source": [
    "\n",
    "To clarify, we are going to run three between-subjects t-tests in total; one for intellect ratings; one for hire ratings; one for impression ratings.\n",
    "\n",
    "**Instructions:**\n",
    "\n",
    "1. Descriptive analysis of the ratings.\n",
    "\n",
    "2. Test for normal distribution (Shapiro-Wilk test) and homogeneity of variances (Levene's test) for the intellect, impression, and hire ratings.\n",
    "\n",
    "3. Conduct independent t-tests comparing intellect, impression, and hire ratings between conditions (listened vs. read).\n",
    "\n",
    "Hints: three T-tests need to be performed.\n",
    "\n",
    "**Question 7**:\n",
    "\n",
    "a: Print the test results.\n",
    "\n",
    "b: Interpret the results of the above descriptive statistics, Shapiro-Wilk test, Levene's test, and independent t-tests. Explian why we use these tests and how we made our decisions based on the test result."
   ]
  },
  {
   "cell_type": "code",
   "execution_count": 36,
   "metadata": {
    "id": "QD3ZZRrAq4Gc"
   },
   "outputs": [
    {
     "data": {
      "text/plain": [
       "(                      count      mean       std       min       25%       50%  \\\n",
       " Category   condition                                                            \n",
       " hire       listened    21.0  4.714286  2.261479  0.000000  4.000000  5.000000   \n",
       "            read        18.0  2.888889  2.054805  0.000000  1.250000  2.000000   \n",
       " impression listened    21.0  5.968254  1.917477  2.333333  4.666667  6.666667   \n",
       "            read        18.0  4.074074  2.233306  0.333333  2.166667  4.500000   \n",
       " intellect  listened    21.0  5.634921  1.608674  2.333333  5.000000  5.666667   \n",
       "            read        18.0  3.648148  1.911343  0.666667  2.083333  3.666667   \n",
       " \n",
       "                            75%       max  \n",
       " Category   condition                      \n",
       " hire       listened   7.000000  8.000000  \n",
       "            read       4.000000  7.000000  \n",
       " impression listened   7.333333  8.666667  \n",
       "            read       5.333333  7.333333  \n",
       " intellect  listened   6.000000  9.000000  \n",
       "            read       4.666667  7.000000  ,\n",
       " Category    condition\n",
       " hire        listened     (0.9390669465065002, 0.20883114635944366)\n",
       "             read         (0.9034498333930969, 0.06600641459226608)\n",
       " impression  listened     (0.9394756555557251, 0.21276134252548218)\n",
       "             read         (0.9483762383460999, 0.40011659264564514)\n",
       " intellect   listened     (0.9350408315658569, 0.17365092039108276)\n",
       "             read          (0.9512398838996887, 0.4447984993457794)\n",
       " dtype: object,\n",
       " LeveneResult(statistic=0.6759080499251722, pvalue=0.6425699318375002),\n",
       " (Ttest_indResult(statistic=3.5259329220482414, pvalue=0.0011444414996286821),\n",
       "  Ttest_indResult(statistic=2.850766179025179, pvalue=0.007091060616710596),\n",
       "  Ttest_indResult(statistic=2.620100218173143, pvalue=0.012674511839824125)))"
      ]
     },
     "execution_count": 36,
     "metadata": {},
     "output_type": "execute_result"
    }
   ],
   "source": [
    "##Q7a (code):\n",
    "from scipy.stats import shapiro, levene, ttest_ind # used for ...\n",
    "\n",
    "# Descriptive analysis of the ratings\n",
    "ratings_desc = ratings2.groupby(['Category', 'condition'])['Rating'].describe()\n",
    "\n",
    "# Test for normal distribution (Shapiro-Wilk test)\n",
    "shapiro_results = ratings2.groupby(['Category', 'condition']).apply(lambda x: shapiro(x['Rating']))\n",
    "\n",
    "# Test for homogeneity of variances (Levene's test)\n",
    "levene_results = levene(ratings2[(ratings2['Category'] == 'intellect') & (ratings2['condition'] == 'listened')]['Rating'],\n",
    "                        ratings2[(ratings2['Category'] == 'intellect') & (ratings2['condition'] == 'read')]['Rating'],\n",
    "                        ratings2[(ratings2['Category'] == 'impression') & (ratings2['condition'] == 'listened')]['Rating'],\n",
    "                        ratings2[(ratings2['Category'] == 'impression') & (ratings2['condition'] == 'read')]['Rating'],\n",
    "                        ratings2[(ratings2['Category'] == 'hire') & (ratings2['condition'] == 'listened')]['Rating'],\n",
    "                        ratings2[(ratings2['Category'] == 'hire') & (ratings2['condition'] == 'read')]['Rating'])\n",
    "\n",
    "\n",
    "#Independent t-tests\n",
    "ttest_results_intellect = ttest_ind(ratings2[(ratings2['Category'] == 'intellect') & (ratings2['condition'] == 'listened')]['Rating'],\n",
    "                                    ratings2[(ratings2['Category'] == 'intellect') & (ratings2['condition'] == 'read')]['Rating'])\n",
    "\n",
    "ttest_results_impression = ttest_ind(ratings2[(ratings2['Category'] == 'impression') & (ratings2['condition'] == 'listened')]['Rating'],\n",
    "                                     ratings2[(ratings2['Category'] == 'impression') & (ratings2['condition'] == 'read')]['Rating'])\n",
    "\n",
    "ttest_results_hire = ttest_ind(ratings2[(ratings2['Category'] == 'hire') & (ratings2['condition'] == 'listened')]['Rating'],\n",
    "                               ratings2[(ratings2['Category'] == 'hire') & (ratings2['condition'] == 'read')]['Rating'])\n",
    "\n",
    "ttest_results = (ttest_results_intellect, ttest_results_impression, ttest_results_hire)\n",
    "\n",
    "\n",
    "ratings_desc, shapiro_results, levene_results, ttest_results"
   ]
  },
  {
   "cell_type": "markdown",
   "metadata": {
    "id": "aifm_T8UQwYm"
   },
   "source": [
    "#Q7b (answer in words):\n",
    "\n",
    "Results:\n",
    "    \n",
    "The descriptive statistics provide information about the central tendency (mean), variability (standard deviation), and distribution of ratings for each category (intellect, hire, impression) under each condition (listened, read).\n",
    "For example, in the 'hire' category, the mean rating for evaluators who listened is higher (4.71) compared to those who read (2.89), indicating a potential difference in perceived hireability between the two conditions.\n",
    "\n",
    "The Shapiro-Wilk test assesses the normality of the distribution of ratings within each category and condition.\n",
    "The test statistic and p-value are provided for each combination of category and condition.\n",
    "A non-significant p-value (typically > 0.05) suggests that the data follows a normal distribution.\n",
    "In this case, all p-values are greater than 0.05, indicating that the assumption of normality is met for all groups.\n",
    "\n",
    "\n",
    "Levene's test evaluates the homogeneity of variances between groups.\n",
    "The test statistic and p-value are provided.\n",
    "A non-significant p-value (typically > 0.05) suggests that the variances are homogeneous across groups.\n",
    "Here, the p-value is 0.642, indicating that the assumption of homogeneity of variances is met.\n",
    "\n",
    "\n",
    "Independent t-tests compare the means of two independent groups to determine if there is a statistically significant difference between them.\n",
    "The test statistic (t-value) and p-value are provided for each category.\n",
    "A significant p-value (typically < 0.05) suggests that there is a significant difference between the means of the two groups.\n",
    "In this case, all p-values are less than 0.05, indicating that there are significant differences in ratings between evaluators who listened and those who read, across all categories (intellect, hire, impression).\n",
    "\n",
    "\n",
    "Explanations:\n",
    "    \n",
    "We use descriptive statistics to summarize the characteristics of the data.\n",
    "Shapiro-Wilk and Levene's tests are used to check assumptions required for t-tests, namely normality and homogeneity of variances, respectively.\n",
    "The independent t-tests are used to determine if there are significant differences in ratings between the two conditions (listened vs. read).\n",
    "\n",
    "Decisions based on the results:\n",
    "We can conclude that the data meets the assumptions required for t-tests.\n",
    "There are significant differences in ratings between evaluators who listened and those who read, across all categories.\n",
    "\n",
    "\n",
    "\n",
    "\n"
   ]
  }
 ],
 "metadata": {
  "colab": {
   "provenance": []
  },
  "kernelspec": {
   "display_name": "Python 3 (ipykernel)",
   "language": "python",
   "name": "python3"
  },
  "language_info": {
   "codemirror_mode": {
    "name": "ipython",
    "version": 3
   },
   "file_extension": ".py",
   "mimetype": "text/x-python",
   "name": "python",
   "nbconvert_exporter": "python",
   "pygments_lexer": "ipython3",
   "version": "3.11.4"
  }
 },
 "nbformat": 4,
 "nbformat_minor": 1
}
